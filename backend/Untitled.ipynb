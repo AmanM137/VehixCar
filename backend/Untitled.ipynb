{
 "cells": [
  {
   "cell_type": "code",
   "execution_count": 1,
   "id": "6e463fbd-d164-48ab-b7e5-9796c5e24b70",
   "metadata": {},
   "outputs": [
    {
     "name": "stdout",
     "output_type": "stream",
     "text": [
      "Requirement already satisfied: diffusers in c:\\users\\kiit\\appdata\\roaming\\python\\python312\\site-packages (0.29.2)\n",
      "Requirement already satisfied: transformers in c:\\users\\kiit\\anaconda3\\lib\\site-packages (4.43.2)\n",
      "Requirement already satisfied: accelerate in c:\\users\\kiit\\anaconda3\\lib\\site-packages (0.33.0)\n",
      "Requirement already satisfied: importlib-metadata in c:\\users\\kiit\\appdata\\roaming\\python\\python312\\site-packages (from diffusers) (8.0.0)\n",
      "Requirement already satisfied: filelock in c:\\users\\kiit\\appdata\\roaming\\python\\python312\\site-packages (from diffusers) (3.15.4)\n",
      "Requirement already satisfied: huggingface-hub>=0.23.2 in c:\\users\\kiit\\appdata\\roaming\\python\\python312\\site-packages (from diffusers) (0.24.0)\n",
      "Requirement already satisfied: numpy in c:\\users\\kiit\\anaconda3\\lib\\site-packages (from diffusers) (1.26.4)\n",
      "Requirement already satisfied: regex!=2019.12.17 in c:\\users\\kiit\\appdata\\roaming\\python\\python312\\site-packages (from diffusers) (2024.5.15)\n",
      "Requirement already satisfied: requests in c:\\users\\kiit\\appdata\\roaming\\python\\python312\\site-packages (from diffusers) (2.32.3)\n",
      "Requirement already satisfied: safetensors>=0.3.1 in c:\\users\\kiit\\appdata\\roaming\\python\\python312\\site-packages (from diffusers) (0.4.3)\n",
      "Requirement already satisfied: Pillow in c:\\users\\kiit\\appdata\\roaming\\python\\python312\\site-packages (from diffusers) (10.4.0)\n",
      "Requirement already satisfied: packaging>=20.0 in c:\\users\\kiit\\anaconda3\\lib\\site-packages (from transformers) (23.2)\n",
      "Requirement already satisfied: pyyaml>=5.1 in c:\\users\\kiit\\appdata\\roaming\\python\\python312\\site-packages (from transformers) (6.0.1)\n",
      "Requirement already satisfied: tokenizers<0.20,>=0.19 in c:\\users\\kiit\\anaconda3\\lib\\site-packages (from transformers) (0.19.1)\n",
      "Requirement already satisfied: tqdm>=4.27 in c:\\users\\kiit\\appdata\\roaming\\python\\python312\\site-packages (from transformers) (4.66.4)\n",
      "Requirement already satisfied: psutil in c:\\users\\kiit\\anaconda3\\lib\\site-packages (from accelerate) (5.9.0)\n",
      "Requirement already satisfied: torch>=1.10.0 in c:\\users\\kiit\\appdata\\roaming\\python\\python312\\site-packages (from accelerate) (2.3.1)\n",
      "Requirement already satisfied: fsspec>=2023.5.0 in c:\\users\\kiit\\appdata\\roaming\\python\\python312\\site-packages (from huggingface-hub>=0.23.2->diffusers) (2024.6.1)\n",
      "Requirement already satisfied: typing-extensions>=3.7.4.3 in c:\\users\\kiit\\appdata\\roaming\\python\\python312\\site-packages (from huggingface-hub>=0.23.2->diffusers) (4.12.2)\n",
      "Requirement already satisfied: sympy in c:\\users\\kiit\\appdata\\roaming\\python\\python312\\site-packages (from torch>=1.10.0->accelerate) (1.13.1)\n",
      "Requirement already satisfied: networkx in c:\\users\\kiit\\appdata\\roaming\\python\\python312\\site-packages (from torch>=1.10.0->accelerate) (3.3)\n",
      "Requirement already satisfied: jinja2 in c:\\users\\kiit\\appdata\\roaming\\python\\python312\\site-packages (from torch>=1.10.0->accelerate) (3.1.4)\n",
      "Requirement already satisfied: mkl<=2021.4.0,>=2021.1.1 in c:\\users\\kiit\\appdata\\roaming\\python\\python312\\site-packages (from torch>=1.10.0->accelerate) (2021.4.0)\n",
      "Requirement already satisfied: colorama in c:\\users\\kiit\\appdata\\roaming\\python\\python312\\site-packages (from tqdm>=4.27->transformers) (0.4.6)\n",
      "Requirement already satisfied: zipp>=0.5 in c:\\users\\kiit\\appdata\\roaming\\python\\python312\\site-packages (from importlib-metadata->diffusers) (3.19.2)\n",
      "Requirement already satisfied: charset-normalizer<4,>=2 in c:\\users\\kiit\\appdata\\roaming\\python\\python312\\site-packages (from requests->diffusers) (3.3.2)\n",
      "Requirement already satisfied: idna<4,>=2.5 in c:\\users\\kiit\\appdata\\roaming\\python\\python312\\site-packages (from requests->diffusers) (3.7)\n",
      "Requirement already satisfied: urllib3<3,>=1.21.1 in c:\\users\\kiit\\appdata\\roaming\\python\\python312\\site-packages (from requests->diffusers) (2.2.2)\n",
      "Requirement already satisfied: certifi>=2017.4.17 in c:\\users\\kiit\\appdata\\roaming\\python\\python312\\site-packages (from requests->diffusers) (2024.7.4)\n",
      "Requirement already satisfied: intel-openmp==2021.* in c:\\users\\kiit\\appdata\\roaming\\python\\python312\\site-packages (from mkl<=2021.4.0,>=2021.1.1->torch>=1.10.0->accelerate) (2021.4.0)\n",
      "Requirement already satisfied: tbb==2021.* in c:\\users\\kiit\\anaconda3\\lib\\site-packages (from mkl<=2021.4.0,>=2021.1.1->torch>=1.10.0->accelerate) (2021.13.0)\n",
      "Requirement already satisfied: MarkupSafe>=2.0 in c:\\users\\kiit\\appdata\\roaming\\python\\python312\\site-packages (from jinja2->torch>=1.10.0->accelerate) (2.1.5)\n",
      "Requirement already satisfied: mpmath<1.4,>=1.1.0 in c:\\users\\kiit\\appdata\\roaming\\python\\python312\\site-packages (from sympy->torch>=1.10.0->accelerate) (1.3.0)\n"
     ]
    }
   ],
   "source": [
    "!pip install diffusers transformers accelerate --upgrade"
   ]
  },
  {
   "cell_type": "code",
   "execution_count": 23,
   "id": "a55d89c9-820d-4940-8612-f3ffb3f9b5a5",
   "metadata": {},
   "outputs": [
    {
     "name": "stdout",
     "output_type": "stream",
     "text": [
      "Found existing installation: numpy 1.26.0\n",
      "Uninstalling numpy-1.26.0:\n",
      "  Successfully uninstalled numpy-1.26.0\n"
     ]
    },
    {
     "name": "stderr",
     "output_type": "stream",
     "text": [
      "WARNING: Skipping C:\\Users\\KIIT\\anaconda3\\Lib\\site-packages\\numpy-1.26.4.dist-info due to invalid metadata entry 'name'\n"
     ]
    }
   ],
   "source": [
    "!pip uninstall numpy -y"
   ]
  },
  {
   "cell_type": "code",
   "execution_count": 1,
   "id": "aa97cbe6-e9a4-4cd4-a613-ae8fd4f65adf",
   "metadata": {
    "scrolled": true
   },
   "outputs": [
    {
     "name": "stdout",
     "output_type": "stream",
     "text": [
      "Collecting numpy==1.26.0\n",
      "  Using cached numpy-1.26.0-cp312-cp312-win_amd64.whl.metadata (61 kB)\n",
      "Using cached numpy-1.26.0-cp312-cp312-win_amd64.whl (15.5 MB)\n",
      "Installing collected packages: numpy\n",
      "Successfully installed numpy-1.26.0\n",
      "Note: you may need to restart the kernel to use updated packages.\n"
     ]
    }
   ],
   "source": [
    "pip install numpy==1.26.0"
   ]
  },
  {
   "cell_type": "code",
   "execution_count": 3,
   "id": "45b1e265-32bc-4cda-bff9-418f86e90bbe",
   "metadata": {},
   "outputs": [
    {
     "name": "stdout",
     "output_type": "stream",
     "text": [
      "1.26.0\n"
     ]
    }
   ],
   "source": [
    "import numpy\n",
    "print(numpy.__version__)"
   ]
  },
  {
   "cell_type": "code",
   "execution_count": 5,
   "id": "ef523228-5159-4c4c-a4f2-c46a0e743d19",
   "metadata": {},
   "outputs": [
    {
     "name": "stderr",
     "output_type": "stream",
     "text": [
      "C:\\Users\\KIIT\\AppData\\Roaming\\Python\\Python312\\site-packages\\diffusers\\models\\vq_model.py:20: FutureWarning: `VQEncoderOutput` is deprecated and will be removed in version 0.31. Importing `VQEncoderOutput` from `diffusers.models.vq_model` is deprecated and this will be removed in a future version. Please use `from diffusers.models.autoencoders.vq_model import VQEncoderOutput`, instead.\n",
      "  deprecate(\"VQEncoderOutput\", \"0.31\", deprecation_message)\n",
      "C:\\Users\\KIIT\\AppData\\Roaming\\Python\\Python312\\site-packages\\diffusers\\models\\vq_model.py:25: FutureWarning: `VQModel` is deprecated and will be removed in version 0.31. Importing `VQModel` from `diffusers.models.vq_model` is deprecated and this will be removed in a future version. Please use `from diffusers.models.autoencoders.vq_model import VQModel`, instead.\n",
      "  deprecate(\"VQModel\", \"0.31\", deprecation_message)\n"
     ]
    },
    {
     "data": {
      "application/vnd.jupyter.widget-view+json": {
       "model_id": "b61c9872be644292bcad40440ee31b5a",
       "version_major": 2,
       "version_minor": 0
      },
      "text/plain": [
       "Loading pipeline components...:   0%|          | 0/7 [00:00<?, ?it/s]"
      ]
     },
     "metadata": {},
     "output_type": "display_data"
    }
   ],
   "source": [
    "from diffusers import AutoPipelineForText2Image\n",
    "import torch\n",
    "\n",
    "# Load the model\n",
    "pipe = AutoPipelineForText2Image.from_pretrained(\"stabilityai/sdxl-turbo\", torch_dtype=torch.float16, variant=\"fp16\")\n",
    "\n",
    "# You don't need to move the model to GPU\n",
    "# pipe.to(\"cuda\")  # Remove this line\n",
    "\n",
    "# Save the model to a directory\n",
    "pipe.save_pretrained(\"saved_model\")\n"
   ]
  },
  {
   "cell_type": "code",
   "execution_count": null,
   "id": "18444334-f883-42e8-9903-0fdf14e8fa4e",
   "metadata": {},
   "outputs": [],
   "source": []
  }
 ],
 "metadata": {
  "kernelspec": {
   "display_name": "Python 3 (ipykernel)",
   "language": "python",
   "name": "python3"
  },
  "language_info": {
   "codemirror_mode": {
    "name": "ipython",
    "version": 3
   },
   "file_extension": ".py",
   "mimetype": "text/x-python",
   "name": "python",
   "nbconvert_exporter": "python",
   "pygments_lexer": "ipython3",
   "version": "3.12.4"
  }
 },
 "nbformat": 4,
 "nbformat_minor": 5
}
